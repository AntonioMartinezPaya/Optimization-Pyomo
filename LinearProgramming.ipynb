{
 "cells": [
  {
   "cell_type": "markdown",
   "metadata": {},
   "source": [
    "# First Assignment"
   ]
  },
  {
   "cell_type": "markdown",
   "metadata": {},
   "source": [
    "A company produces a set of products at $I$ plants. It then ships these products to $J$ market zones.\n",
    "For $i = 1,...,I$ and $j = 1,...,J$, the following data are given:\n",
    "\n",
    "$v_{i} \\equiv$ variable cost of producing one unit of product at plant $i$.\n",
    "\n",
    "$c_{ij} \\equiv$ cost of shipping one unit of product from plant $i$ to market $j$.\n",
    "\n",
    "$d_{j} \\equiv$ demand for products at market $j$.\n",
    "\n",
    "$M_{i} \\equiv$ maximum number or products produced at plant $i$.\n",
    "\n",
    "$p_{j} \\equiv$ selling price for products at market $j$.\n",
    "\n",
    "$F \\equiv $ maximum transportation capacity between plant $i$ and market $j$ (assume all transportation capacities are equal)."
   ]
  },
  {
   "cell_type": "markdown",
   "metadata": {},
   "source": [
    "**a)** Formulate the problem (linear program) of maximizing the total profit that the\n",
    "company is facing (total selling revenue - total production and transportation costs) by\n",
    "identifying the optimal production and transportation schedule. Assume also that demand\n",
    "is satisfy with \"equality\", i.e., \"total product reaching market $j$\" = $d_{j}$ )."
   ]
  },
  {
   "cell_type": "markdown",
   "metadata": {},
   "source": [
    "**SOLUTION**\n",
    "\n",
    "First of all, the $I \\cdot J$ variables of our problem are the following ones:\n",
    "\n",
    "$X_{ij} \\equiv$ units produced in market $i$ and sold in market $j$.  \n",
    "\n",
    "Then the optimization problem is:\n",
    "\n",
    " $$ \\max \\sum_{i=1}^{I}  \\sum_{j=1}^{J} p_{j} X_{ij} - \\sum_{i=1}^{I}  \\sum_{j=1}^{J} v_{i} X_{ij} - \\sum_{i=1}^{I}  \\sum_{j=1}^{J} c_{ij} X_{ij}$$\n",
    " \n",
    "\n",
    "s.t.\n",
    "\n",
    "$\\displaystyle \\sum_{i=1}^{I} X_{ij} = d_{j} \\quad j=1,...,J \\quad $  (We have to satisfy the demand of $J$ markets)\n",
    "\n",
    "$\\displaystyle \\sum_{j=1}^{J} X_{ij} \\le M_{i} \\quad i=1,...,I \\quad $  (We can not produce more than the capacity for each of the $I$ plants)\n",
    "\n",
    "$X_{ij} \\le F \\quad j=1,...,J \\quad i=1,...,I \\quad $ (We can not transport more than $F$ from plant $i$ to market $j$)\n",
    "\n",
    "$X_{ij} \\ge 0 \\quad j=1,...,J \\quad i=1,...,I \\quad $ (We can not produce negative units)"
   ]
  },
  {
   "cell_type": "markdown",
   "metadata": {},
   "source": [
    "**b)** Implement the model in Pyomo as an \"AbstractModel()\" and solve it considering\n",
    "5 plants and 6 markets and randomly generated parameters. For the random generation of\n",
    "these parameters consider uniform distributions within the following ranges: $v_{i} \\in [1.5 , 2.5] $,\n",
    "$c_{ij} \\in [1,2]$, $dj \\in [275, 325]$, $M_{i} \\in [400, 900]$, $p_{j} \\in [4, 5]$ and  $F \\in[250, 350]$."
   ]
  },
  {
   "cell_type": "markdown",
   "metadata": {},
   "source": [
    "Firstly, we need to create the model. The model will be created inside plants_to_markets funciton."
   ]
  },
  {
   "cell_type": "code",
   "execution_count": 1,
   "metadata": {
    "collapsed": true
   },
   "outputs": [],
   "source": [
    "from pyomo.environ import *\n",
    "opt = SolverFactory(\"glpk\")\n",
    "from pyomo.opt import SolverFactory\n",
    "\n",
    "def plants_to_markets(I,J,v,c,d,M,p,F):\n",
    "    \n",
    "    model = AbstractModel()\n",
    "    \n",
    "    model.I = RangeSet(1,I) #plants\n",
    "    model.J = RangeSet(1,J) #markets\n",
    "    \n",
    "    #We create I·J non negative variables \n",
    "    model.x = Var(model.I,model.J, domain=NonNegativeReals) \n",
    "    \n",
    "    #Objective function:\n",
    "    def obj_expression(model): \n",
    "        return sum(sum(p[j-1]*model.x[i,j] for i in model.I) for j in model.J)-sum(sum(v[i-1]*model.x[i,j] for j in model.J) for i in model.I)-sum(sum(c[i-1,j-1]*model.x[i,j] for i in model.I) for j in model.J)\n",
    "    \n",
    "    #the next line creates the objective function \n",
    "    model.OBJ = Objective(rule=obj_expression, sense=maximize)\n",
    "    \n",
    "    #Maximum flow (in the problem it is constant, but we are going to create I·J and then assign themm the same value)\n",
    "    def F_constraint_rule(model, i,j): \n",
    "        return model.x[i,j] <= F[i-1,j-1]\n",
    "    \n",
    "    #the next line creates one constraint for each of the I·Jpossible paths between plants and markets\n",
    "    model.F_constraint = Constraint(model.I,model.J, rule=F_constraint_rule)\n",
    "\n",
    "    #Demand constraint\n",
    "    def d_constraint_rule(model, j): \n",
    "        return sum(model.x[i,j] for i in model.I) == d[j-1]\n",
    "    \n",
    "    #the next line creates one constraint for each of the J markets\n",
    "    model.d_constraint = Constraint(model.J, rule=d_constraint_rule)\n",
    "\n",
    "    #Production constraint\n",
    "    def M_constraint_rule(model, i):\n",
    "        return sum(model.x[i,j] for j in model.J)<= M[i-1]\n",
    "    \n",
    "    #the next line creates one constraint for each of the I plants\n",
    "    model.M_constraint = Constraint(model.I, rule=M_constraint_rule)\n",
    "\n",
    "    #We create the an instance of model\n",
    "    instance = model.create_instance()\n",
    "    \n",
    "    #We use the function solve from Solverfactory inputing the model's instance\n",
    "    results = opt.solve(instance)\n",
    "    \n",
    "    #Then we save the solution of the problem in the matrix x_sol\n",
    "\n",
    "    x_sol = np.zeros((I,J))\n",
    "    for i in range(0, I):\n",
    "            for j in range(0,J):\n",
    "                x_sol[i,j]=instance.x[i+1,j+1].value\n",
    "    \n",
    "    return instance.OBJ(), x_sol"
   ]
  },
  {
   "cell_type": "markdown",
   "metadata": {},
   "source": [
    "When the function has been created, we define the input parameters of our problem (I used np.random.seed(13), for example). I have considered the demmand, the maximum production and the maximum flow per line as integer numbers:"
   ]
  },
  {
   "cell_type": "code",
   "execution_count": 17,
   "metadata": {
    "collapsed": true
   },
   "outputs": [],
   "source": [
    "import numpy as np\n",
    "import matplotlib.pyplot as plt\n",
    "import copy\n",
    "%matplotlib inline\n",
    " \n",
    "np.random.seed(13)\n",
    "\n",
    "I = 5 #plants\n",
    "J = 6 #markets\n",
    "v = np.random.uniform(1.5, 2.5, I) #I varibles of production cost\n",
    "c = np.random.uniform(1, 2, (I,J)) #I·J variables of transport costs\n",
    "d = np.random.uniform(275, 325, J).astype(int) #J varibles of demmand \n",
    "M = np.random.uniform(400, 900, I).astype(int) #I varibles of maximum production \n",
    "p = np.random.uniform(4, 5, J) #J varibles of price\n",
    "F = np.ones((I,J))*np.random.uniform(250, 350, 1)[0].astype(int) #constant varible of maximum flow"
   ]
  },
  {
   "cell_type": "markdown",
   "metadata": {},
   "source": [
    "Now we apply the function that we have defined before and we get the values of variables as well as the objective function's value."
   ]
  },
  {
   "cell_type": "code",
   "execution_count": 18,
   "metadata": {
    "collapsed": true
   },
   "outputs": [],
   "source": [
    "obj,x_sol=plants_to_markets(I,J,v,c,d,M,p,F)"
   ]
  },
  {
   "cell_type": "code",
   "execution_count": 19,
   "metadata": {},
   "outputs": [
    {
     "data": {
      "text/plain": [
       "2206.234027347951"
      ]
     },
     "execution_count": 19,
     "metadata": {},
     "output_type": "execute_result"
    }
   ],
   "source": [
    "obj"
   ]
  },
  {
   "cell_type": "code",
   "execution_count": 21,
   "metadata": {},
   "outputs": [
    {
     "data": {
      "text/plain": [
       "array([[   0.,    0.,    0.,   47.,    0.,  246.],\n",
       "       [ 263.,  263.,    0.,  263.,   28.,   42.],\n",
       "       [  59.,   12.,    0.,    0.,  263.,    0.],\n",
       "       [   0.,    0.,  263.,    0.,    0.,    0.],\n",
       "       [   0.,    0.,   24.,    0.,    0.,    0.]])"
      ]
     },
     "execution_count": 21,
     "metadata": {},
     "output_type": "execute_result"
    }
   ],
   "source": [
    "x_sol"
   ]
  },
  {
   "cell_type": "markdown",
   "metadata": {},
   "source": [
    "We can see that if we produce what is indicated in the matrix x_sol we would obtain the optimal solution. We would win 2206.23 monetary units."
   ]
  },
  {
   "cell_type": "markdown",
   "metadata": {},
   "source": [
    "**c)** Considering the results: which plant's maximum capacity would be more beneficial\n",
    "to increase? and in which market would be more beneficial to increase the demand? Justify\n",
    "your answers."
   ]
  },
  {
   "cell_type": "markdown",
   "metadata": {},
   "source": [
    "Let's see first for the plant's maximum capacity. The capacities are:"
   ]
  },
  {
   "cell_type": "code",
   "execution_count": 22,
   "metadata": {},
   "outputs": [
    {
     "data": {
      "text/plain": [
       "array([747, 859, 522, 629, 526])"
      ]
     },
     "execution_count": 22,
     "metadata": {},
     "output_type": "execute_result"
    }
   ],
   "source": [
    "M"
   ]
  },
  {
   "cell_type": "markdown",
   "metadata": {},
   "source": [
    "The value of the objective function is:"
   ]
  },
  {
   "cell_type": "code",
   "execution_count": 23,
   "metadata": {},
   "outputs": [
    {
     "data": {
      "text/plain": [
       "2206.234027347951"
      ]
     },
     "execution_count": 23,
     "metadata": {},
     "output_type": "execute_result"
    }
   ],
   "source": [
    "obj"
   ]
  },
  {
   "cell_type": "markdown",
   "metadata": {},
   "source": [
    "Now we are going to write a code in which we plot the evolution of the objective function if we increase the capacity of the different plants up to 100 more."
   ]
  },
  {
   "cell_type": "code",
   "execution_count": 25,
   "metadata": {},
   "outputs": [
    {
     "data": {
      "text/plain": [
       "[<matplotlib.lines.Line2D at 0x10f525f8>]"
      ]
     },
     "execution_count": 25,
     "metadata": {},
     "output_type": "execute_result"
    },
    {
     "data": {
      "image/png": "[encoded data removed]",
      "text/plain": [
       "<matplotlib.figure.Figure at 0x10d732b0>"
      ]
     },
     "metadata": {},
     "output_type": "display_data"
    }
   ],
   "source": [
    "solutions_capacity_plant1=[]\n",
    "M1=copy.deepcopy(M)\n",
    "j=0\n",
    "for i in range(M[0],M[0]+100):\n",
    "    M1[0]=M1[0]+1\n",
    "    x_sol=plants_to_markets(I,J,v,c,d,M1,p,F)\n",
    "    solutions_capacity_plant1.append(x_sol[0])\n",
    "    j=j+1\n",
    "    \n",
    "plt.plot(range(1,j+1),solutions_capacity_plant1)\n",
    "\n"
   ]
  },
  {
   "cell_type": "code",
   "execution_count": 26,
   "metadata": {},
   "outputs": [
    {
     "data": {
      "text/plain": [
       "[<matplotlib.lines.Line2D at 0x11a53898>]"
      ]
     },
     "execution_count": 26,
     "metadata": {},
     "output_type": "execute_result"
    },
    {
     "data": {
      "image/png": "[encoded data removed]",
      "text/plain": [
       "<matplotlib.figure.Figure at 0x948d780>"
      ]
     },
     "metadata": {},
     "output_type": "display_data"
    }
   ],
   "source": [
    "solutions_capacity_plant2=[]\n",
    "M2=copy.deepcopy(M)\n",
    "j=0\n",
    "for i in range(M[1],M[1]+100):\n",
    "    M2[1]=M2[1]+1\n",
    "    x_sol=plants_to_markets(I,J,v,c,d,M2,p,F)\n",
    "    solutions_capacity_plant2.append(x_sol[0])\n",
    "    j=j+1\n",
    "    \n",
    "plt.plot(range(1,j+1),solutions_capacity_plant2)"
   ]
  },
  {
   "cell_type": "code",
   "execution_count": 28,
   "metadata": {},
   "outputs": [
    {
     "data": {
      "text/plain": [
       "[<matplotlib.lines.Line2D at 0x11e9aa90>]"
      ]
     },
     "execution_count": 28,
     "metadata": {},
     "output_type": "execute_result"
    },
    {
     "data": {
      "image/png": "[encoded data removed]",
      "text/plain": [
       "<matplotlib.figure.Figure at 0x11a4f080>"
      ]
     },
     "metadata": {},
     "output_type": "display_data"
    }
   ],
   "source": [
    "solutions_capacity_plant3=[]\n",
    "M3=copy.deepcopy(M)\n",
    "j=0\n",
    "for i in range(M[2],M[2]+100):\n",
    "    M3[2]=M3[2]+1\n",
    "    x_sol=plants_to_markets(I,J,v,c,d,M3,p,F)\n",
    "    solutions_capacity_plant3.append(x_sol[0])\n",
    "    j=j+1\n",
    "    \n",
    "plt.plot(range(1,j+1),solutions_capacity_plant3)"
   ]
  },
  {
   "cell_type": "code",
   "execution_count": 29,
   "metadata": {},
   "outputs": [
    {
     "data": {
      "text/plain": [
       "[<matplotlib.lines.Line2D at 0x11bba550>]"
      ]
     },
     "execution_count": 29,
     "metadata": {},
     "output_type": "execute_result"
    },
    {
     "data": {
      "image/png": "[encoded data removed]",
      "text/plain": [
       "<matplotlib.figure.Figure at 0x11bac4e0>"
      ]
     },
     "metadata": {},
     "output_type": "display_data"
    }
   ],
   "source": [
    "solutions_capacity_plant4=[]\n",
    "M4=copy.deepcopy(M)\n",
    "j=0\n",
    "for i in range(M[3],M[3]+100):\n",
    "    M4[3]=M4[3]+1\n",
    "    x_sol=plants_to_markets(I,J,v,c,d,M4,p,F)\n",
    "    solutions_capacity_plant4.append(x_sol[0])\n",
    "    j=j+1\n",
    "    \n",
    "plt.plot(range(1,j+1),solutions_capacity_plant4)"
   ]
  },
  {
   "cell_type": "code",
   "execution_count": 30,
   "metadata": {},
   "outputs": [
    {
     "data": {
      "text/plain": [
       "[<matplotlib.lines.Line2D at 0x11aed828>]"
      ]
     },
     "execution_count": 30,
     "metadata": {},
     "output_type": "execute_result"
    },
    {
     "data": {
      "image/png": "[encoded data removed]",
      "text/plain": [
       "<matplotlib.figure.Figure at 0x1200de48>"
      ]
     },
     "metadata": {},
     "output_type": "display_data"
    }
   ],
   "source": [
    "solutions_capacity_plant5=[]\n",
    "M5=copy.deepcopy(M)\n",
    "j=0\n",
    "for i in range(M[4],M[4]+100):\n",
    "    M5[4]=M5[4]+1\n",
    "    x_sol=plants_to_markets(I,J,v,c,d,M5,p,F)\n",
    "    solutions_capacity_plant5.append(x_sol[0])\n",
    "    j=j+1\n",
    "    \n",
    "plt.plot(range(1,j+1),solutions_capacity_plant5)"
   ]
  },
  {
   "cell_type": "markdown",
   "metadata": {},
   "source": [
    "From the plots we can see that the best plant to increase its capacity is plant 2, in fact, it is the only one that also increases the benefit."
   ]
  },
  {
   "cell_type": "markdown",
   "metadata": {},
   "source": [
    "Now we do exactly the same for the different market demmands."
   ]
  },
  {
   "cell_type": "code",
   "execution_count": 31,
   "metadata": {},
   "outputs": [
    {
     "data": {
      "text/plain": [
       "array([322, 275, 287, 310, 291, 288])"
      ]
     },
     "execution_count": 31,
     "metadata": {},
     "output_type": "execute_result"
    }
   ],
   "source": [
    "d"
   ]
  },
  {
   "cell_type": "code",
   "execution_count": 32,
   "metadata": {},
   "outputs": [
    {
     "data": {
      "text/plain": [
       "[<matplotlib.lines.Line2D at 0x120e9c18>]"
      ]
     },
     "execution_count": 32,
     "metadata": {},
     "output_type": "execute_result"
    },
    {
     "data": {
      "image/png": "[encoded data removed]",
      "text/plain": [
       "<matplotlib.figure.Figure at 0x10ff0a58>"
      ]
     },
     "metadata": {},
     "output_type": "display_data"
    }
   ],
   "source": [
    "solutions_demmand_market1=[]\n",
    "d1=copy.deepcopy(d)\n",
    "j=0\n",
    "for i in range(d[0],d[0]+100):\n",
    "    d1[0]=d1[0]+1\n",
    "    x_sol=plants_to_markets(I,J,v,c,d1,M,p,F)\n",
    "    solutions_demmand_market1.append(x_sol[0])\n",
    "    j=j+1\n",
    "    \n",
    "plt.plot(range(1,j+1),solutions_demmand_market1)"
   ]
  },
  {
   "cell_type": "code",
   "execution_count": 33,
   "metadata": {},
   "outputs": [
    {
     "data": {
      "text/plain": [
       "[<matplotlib.lines.Line2D at 0x12578f98>]"
      ]
     },
     "execution_count": 33,
     "metadata": {},
     "output_type": "execute_result"
    },
    {
     "data": {
      "image/png": "[encoded data removed]",
      "text/plain": [
       "<matplotlib.figure.Figure at 0x12749e80>"
      ]
     },
     "metadata": {},
     "output_type": "display_data"
    }
   ],
   "source": [
    "solutions_demmand_market2=[]\n",
    "d2=copy.deepcopy(d)\n",
    "j=0\n",
    "for i in range(d[1],d[1]+100):\n",
    "    d2[1]=d2[1]+1\n",
    "    x_sol=plants_to_markets(I,J,v,c,d2,M,p,F)\n",
    "    solutions_demmand_market2.append(x_sol[0])\n",
    "    j=j+1\n",
    "    \n",
    "plt.plot(range(1,j+1),solutions_demmand_market2)"
   ]
  },
  {
   "cell_type": "code",
   "execution_count": 38,
   "metadata": {},
   "outputs": [
    {
     "data": {
      "text/plain": [
       "[<matplotlib.lines.Line2D at 0x10d75668>]"
      ]
     },
     "execution_count": 38,
     "metadata": {},
     "output_type": "execute_result"
    },
    {
     "data": {
      "image/png": "[encoded data removed]",
      "text/plain": [
       "<matplotlib.figure.Figure at 0x12c9b2b0>"
      ]
     },
     "metadata": {},
     "output_type": "display_data"
    }
   ],
   "source": [
    "solutions_demmand_market3=[]\n",
    "d3=copy.deepcopy(d)\n",
    "j=0\n",
    "for i in range(d[2],d[2]+100):\n",
    "    d3[2]=d3[2]+1\n",
    "    x_sol=plants_to_markets(I,J,v,c,d3,M,p,F)\n",
    "    solutions_demmand_market3.append(x_sol[0])\n",
    "    j=j+1\n",
    "    \n",
    "plt.plot(range(1,j+1),solutions_demmand_market3)"
   ]
  },
  {
   "cell_type": "code",
   "execution_count": 39,
   "metadata": {},
   "outputs": [
    {
     "data": {
      "text/plain": [
       "[<matplotlib.lines.Line2D at 0x12e029e8>]"
      ]
     },
     "execution_count": 39,
     "metadata": {},
     "output_type": "execute_result"
    },
    {
     "data": {
      "image/png": "[encoded data removed]",
      "text/plain": [
       "<matplotlib.figure.Figure at 0x1201a6d8>"
      ]
     },
     "metadata": {},
     "output_type": "display_data"
    }
   ],
   "source": [
    "solutions_demmand_market4=[]\n",
    "d4=copy.deepcopy(d)\n",
    "j=0\n",
    "for i in range(d[3],d[3]+100):\n",
    "    d4[3]=d4[3]+1\n",
    "    x_sol=plants_to_markets(I,J,v,c,d4,M,p,F)\n",
    "    solutions_demmand_market4.append(x_sol[0])\n",
    "    j=j+1\n",
    "    \n",
    "plt.plot(range(1,j+1),solutions_demmand_market4)"
   ]
  },
  {
   "cell_type": "code",
   "execution_count": 40,
   "metadata": {},
   "outputs": [
    {
     "data": {
      "text/plain": [
       "[<matplotlib.lines.Line2D at 0x12ee0c88>]"
      ]
     },
     "execution_count": 40,
     "metadata": {},
     "output_type": "execute_result"
    },
    {
     "data": {
      "image/png": "[encoded data removed]",
      "text/plain": [
       "<matplotlib.figure.Figure at 0x12b159b0>"
      ]
     },
     "metadata": {},
     "output_type": "display_data"
    }
   ],
   "source": [
    "solutions_demmand_market5=[]\n",
    "d5=copy.deepcopy(d)\n",
    "j=0\n",
    "for i in range(d[4],d[4]+100):\n",
    "    d5[4]=d5[4]+1\n",
    "    x_sol=plants_to_markets(I,J,v,c,d5,M,p,F)\n",
    "    solutions_demmand_market5.append(x_sol[0])\n",
    "    j=j+1\n",
    "    \n",
    "plt.plot(range(1,j+1),solutions_demmand_market5)"
   ]
  },
  {
   "cell_type": "code",
   "execution_count": 41,
   "metadata": {},
   "outputs": [
    {
     "data": {
      "text/plain": [
       "[<matplotlib.lines.Line2D at 0x12dd40f0>]"
      ]
     },
     "execution_count": 41,
     "metadata": {},
     "output_type": "execute_result"
    },
    {
     "data": {
      "image/png": "[encoded data removed]",
      "text/plain": [
       "<matplotlib.figure.Figure at 0x128ec0f0>"
      ]
     },
     "metadata": {},
     "output_type": "display_data"
    }
   ],
   "source": [
    "solutions_demmand_market6=[]\n",
    "d6=copy.deepcopy(d)\n",
    "j=0\n",
    "for i in range(d[5],d[5]+100):\n",
    "    d6[5]=d6[5]+1\n",
    "    x_sol=plants_to_markets(I,J,v,c,d6,M,p,F)\n",
    "    solutions_demmand_market6.append(x_sol[0])\n",
    "    j=j+1\n",
    "    \n",
    "plt.plot(range(1,j+1),solutions_demmand_market6)"
   ]
  },
  {
   "cell_type": "code",
   "execution_count": 43,
   "metadata": {},
   "outputs": [
    {
     "name": "stdout",
     "output_type": "stream",
     "text": [
      "2333.31877994\n",
      "2207.50487487\n",
      "2328.64004731\n",
      "2207.45808755\n"
     ]
    }
   ],
   "source": [
    "print(max(solutions_demmand_market2))\n",
    "print(solutions_demmand_market2[0])\n",
    "print(max(solutions_demmand_market3))\n",
    "print(solutions_demmand_market3[0])"
   ]
  },
  {
   "cell_type": "markdown",
   "metadata": {},
   "source": [
    "From the plots and the last 4 lines of code we can see that the best market to increase its demmand is market 2."
   ]
  },
  {
   "cell_type": "markdown",
   "metadata": {},
   "source": [
    "**d)** Modify the formulation in a) to impose that:\n",
    "\n",
    "$\\quad$**1.** Each plant is allowed to send its products to a maximum of 5 diferent markets.\n",
    "\n",
    "$\\quad$**2.** Plants, if operative, cannot produce less than 10% of their maximum capacity,\n",
    "i.e., a plant can produce either 0 products (if not operative) or a quantity greater than\n",
    "10% of its maximum capacity (if operative).\n",
    "\n",
    "Solve the resulting model in Pyomo and interpret the new results. "
   ]
  },
  {
   "cell_type": "markdown",
   "metadata": {},
   "source": [
    "**SOLUTION**\n",
    "\n",
    "**Now we have $2 \\cdot I \\cdot J + I$ variables**:\n",
    "\n",
    "$X_{ij} \\equiv$ units produced in market $i$ and sold in market $j$.  \n",
    "\n",
    "**$Y_{ij} \\equiv$ 1 if the plant $i$ sends units to market $j$, 0 if not.** \n",
    "\n",
    "**$A_{i} \\equiv$ 1 if the plant $i$ is active, 0 if not.** (This last variale is needed for the second and the third constraint inequation due to the fact that, if the plant $i$ does not produce, then 0 would be greater or equal than a positive number)\n",
    "\n",
    "Then the optimization problem is:\n",
    "\n",
    " $$ \\max \\sum_{i=1}^{I}  \\sum_{j=1}^{J} p_{j} X_{ij} - \\sum_{i=1}^{I}  \\sum_{j=1}^{J} v_{i} X_{ij} - \\sum_{i=1}^{I}  \\sum_{j=1}^{J} c_{ij} X_{ij}$$\n",
    "\n",
    "s.t.\n",
    "\n",
    "$\\displaystyle \\sum_{i=1}^{I} X_{ij} = d_{j} \\quad j=1,...,J \\quad $  (We have to satisfy the demand of $J$ markets)\n",
    "\n",
    "$\\displaystyle \\sum_{j=1}^{J} X_{ij} \\le M_{i} A_{i} \\quad i=1,...,I \\quad $  (**If the plant produces, we can not produce more than the capacity for each of the $I$ plants**)\n",
    "\n",
    "$\\displaystyle \\sum_{j=1}^{J} X_{ij} \\ge 0.1 M_{i} A_{i}\\quad i=1,...,I \\quad $  (**If the plant produces , we can not produce less than the 10% of its capacity**)\n",
    "\n",
    "$X_{ij} \\le Y_{ij} F  \\quad j=1,...,J \\quad i=1,...,I \\quad $ (**If the plant $i$ produces for market $j$, we can not transport more than $F$ from plant $i$ to market $j$**)\n",
    "\n",
    "$X_{ij} \\ge 0 \\quad j=1,...,J \\quad i=1,...,I \\quad $ (We can not produce negative units)\n",
    "\n",
    "$\\displaystyle \\sum_{j=1}^{J} Y_{ij} \\le 5 \\quad i=1,...,I \\quad $  (**Each plant can not send to more than 5 markets**)"
   ]
  },
  {
   "cell_type": "markdown",
   "metadata": {},
   "source": [
    "Now we need to create the model. The model will be created inside plants_to_markets_modif funciton."
   ]
  },
  {
   "cell_type": "code",
   "execution_count": 24,
   "metadata": {
    "collapsed": true
   },
   "outputs": [],
   "source": [
    "from pyomo.environ import *\n",
    "opt = SolverFactory(\"glpk\")\n",
    "from pyomo.opt import SolverFactory\n",
    "\n",
    "def plants_to_markets_modif(I,J,v,c,d,M,p,F):\n",
    "    \n",
    "    model = AbstractModel()\n",
    "    \n",
    "    model.I = RangeSet(1,I) #plants\n",
    "    model.J = RangeSet(1,J) #markets\n",
    "    \n",
    "    #We create I·J non negative variables \n",
    "    model.x = Var(model.I,model.J, domain=NonNegativeReals) \n",
    "    \n",
    "    #We need to add I·J binary variables\n",
    "    model.y = Var(model.I,model.J, domain=Binary)\n",
    "    \n",
    "    #We also need to add I binary variables\n",
    "    model.a = Var(model.I, domain=Binary)\n",
    "    \n",
    "    #Objective function:\n",
    "    def obj_expression(model): \n",
    "        return sum(sum(p[j-1]*model.x[i,j] for i in model.I) for j in model.J)-sum(sum(v[i-1]*model.x[i,j] for j in model.J) for i in model.I)-sum(sum(c[i-1,j-1]*model.x[i,j] for i in model.I) for j in model.J)\n",
    "    \n",
    "    #the next line creates the objective function \n",
    "    model.OBJ = Objective(rule=obj_expression, sense=maximize)\n",
    "    \n",
    "    #Maximum flow (in the problem it is constant, but we are going to create I·J and then assign themm the same value)\n",
    "    def F_constraint_rule(model, i,j): \n",
    "        return model.x[i,j] <= F[i-1,j-1]*model.y[i,j]\n",
    "    \n",
    "    #the next line creates one constraint for each of the I·Jpossible paths between plants and markets\n",
    "    model.F_constraint = Constraint(model.I,model.J, rule=F_constraint_rule)\n",
    "\n",
    "    #Demand constraint\n",
    "    def d_constraint_rule(model, j): \n",
    "        return sum(model.x[i,j] for i in model.I) == d[j-1]\n",
    "    \n",
    "    #the next line creates one constraint for each of the J markets\n",
    "    model.d_constraint = Constraint(model.J, rule=d_constraint_rule)\n",
    "\n",
    "    #Upper bound production constraint\n",
    "    def M_constraint_rule(model, i): \n",
    "        return sum(model.x[i,j] for j in model.J)<= M[i-1]*model.a[i]\n",
    "    \n",
    "    #the next line creates one constraint for each of the I plants\n",
    "    model.M_constraint = Constraint(model.I, rule=M_constraint_rule)\n",
    "    \n",
    "    #Lower bound production constraint\n",
    "    def Ml_constraint_rule(model, i): \n",
    "        return sum(model.x[i,j] for j in model.J)>= 0.1*M[i-1]*model.a[i]\n",
    "    \n",
    "    #the next line creates one constraint for each of the I plants\n",
    "    model.Ml_constraint = Constraint(model.I, rule=Ml_constraint_rule)\n",
    "    \n",
    "    #No more than 5 markets constraint\n",
    "    def Y_constraint_rule(model,i): \n",
    "        return   sum(model.y[i,j] for j in model.J) <= 5\n",
    "    \n",
    "    #the next line creates one constraint for each of the I plants\n",
    "    model.Y_constraint = Constraint(model.I,rule=Y_constraint_rule)\n",
    "    \n",
    "\n",
    "    #We create the an instance of model\n",
    "    instance = model.create_instance()\n",
    "    \n",
    "    #We use the function solve from Solverfactory inputing the model's instance\n",
    "    results = opt.solve(instance)\n",
    "    \n",
    "    #Then we save the solution of the problem in the matrix x_sol\n",
    "\n",
    "    x_sol = np.zeros((I,J))\n",
    "    \n",
    "     \n",
    "    for i in range(0, I):\n",
    "            for j in range(0,J):\n",
    "                x_sol[i,j]=instance.x[i+1,j+1].value\n",
    "    \n",
    "    y_sol = np.zeros((I,J))\n",
    "    \n",
    "    for i in range(0, I):\n",
    "            for j in range(0,J):\n",
    "                y_sol[i,j]=instance.y[i+1,j+1].value\n",
    "    a_sol = np.zeros(I)\n",
    "    \n",
    "    for i in range(0, I):\n",
    "        a_sol[i]=instance.a[i+1].value           \n",
    "    \n",
    "    return instance.OBJ(), x_sol, y_sol, a_sol"
   ]
  },
  {
   "cell_type": "markdown",
   "metadata": {
    "collapsed": true
   },
   "source": [
    "With the same input data we obtain the following results:"
   ]
  },
  {
   "cell_type": "code",
   "execution_count": 30,
   "metadata": {
    "collapsed": true
   },
   "outputs": [],
   "source": [
    "obj,x_sol,y_sol,a_sol=plants_to_markets_modif(I,J,v,c,d,M,p,F)"
   ]
  },
  {
   "cell_type": "code",
   "execution_count": 31,
   "metadata": {},
   "outputs": [
    {
     "data": {
      "text/plain": [
       "2205.733961353191"
      ]
     },
     "execution_count": 31,
     "metadata": {},
     "output_type": "execute_result"
    }
   ],
   "source": [
    "obj"
   ]
  },
  {
   "cell_type": "code",
   "execution_count": 32,
   "metadata": {},
   "outputs": [
    {
     "data": {
      "text/plain": [
       "array([[   0. ,    0. ,    0. ,   47. ,    0. ,  246. ],\n",
       "       [ 263. ,  263. ,    0. ,  263. ,   28. ,   42. ],\n",
       "       [  59. ,   12. ,    0. ,    0. ,  263. ,    0. ],\n",
       "       [   0. ,    0. ,  234.4,    0. ,    0. ,    0. ],\n",
       "       [   0. ,    0. ,   52.6,    0. ,    0. ,    0. ]])"
      ]
     },
     "execution_count": 32,
     "metadata": {},
     "output_type": "execute_result"
    }
   ],
   "source": [
    "x_sol"
   ]
  },
  {
   "cell_type": "code",
   "execution_count": 33,
   "metadata": {},
   "outputs": [
    {
     "data": {
      "text/plain": [
       "array([[ 0.,  0.,  0.,  1.,  1.,  1.],\n",
       "       [ 1.,  1.,  0.,  1.,  1.,  1.],\n",
       "       [ 1.,  1.,  0.,  0.,  1.,  0.],\n",
       "       [ 0.,  0.,  1.,  0.,  0.,  0.],\n",
       "       [ 0.,  0.,  1.,  0.,  0.,  0.]])"
      ]
     },
     "execution_count": 33,
     "metadata": {},
     "output_type": "execute_result"
    }
   ],
   "source": [
    "y_sol"
   ]
  },
  {
   "cell_type": "code",
   "execution_count": 29,
   "metadata": {},
   "outputs": [
    {
     "data": {
      "text/plain": [
       "array([ 1.,  1.,  1.,  1.,  1.])"
      ]
     },
     "execution_count": 29,
     "metadata": {},
     "output_type": "execute_result"
    }
   ],
   "source": [
    "a_sol"
   ]
  },
  {
   "cell_type": "markdown",
   "metadata": {},
   "source": [
    "If we take a look at the solution and we compare it with the solution of the first problem what mainly happens is that, in the first solution, the units produced in the third plant were 24, which is less than the 10% of the plant's capacity (522). That is why we forced to produce at least the 10% and we obtained the value 52.6 in this plant. Obviusly, the objective function's value has decreased a little."
   ]
  }
 ],
 "metadata": {
  "anaconda-cloud": {},
  "kernelspec": {
   "display_name": "Python 2",
   "language": "python",
   "name": "python2"
  },
  "language_info": {
   "codemirror_mode": {
    "name": "ipython",
    "version": 2
   },
   "file_extension": ".py",
   "mimetype": "text/x-python",
   "name": "python",
   "nbconvert_exporter": "python",
   "pygments_lexer": "ipython2",
   "version": "2.7.14"
  }
 },
 "nbformat": 4,
 "nbformat_minor": 1
}
